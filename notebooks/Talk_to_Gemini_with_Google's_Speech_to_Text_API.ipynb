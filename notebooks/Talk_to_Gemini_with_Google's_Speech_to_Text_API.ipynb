{
  "nbformat": 4,
  "nbformat_minor": 0,
  "metadata": {
    "colab": {
      "provenance": []
    },
    "kernelspec": {
      "name": "python3",
      "display_name": "Python 3"
    },
    "language_info": {
      "name": "python"
    }
  },
  "cells": [
    {
      "cell_type": "markdown",
      "source": [
        "<b>Talk to Gemini with the Speech-to-Text API</b>\n",
        "\n",
        "Having a spoken conversation with Gemini, Google's latest and most advanced model, is simple in a Colab notebook."
      ],
      "metadata": {
        "id": "ZWhWniBGu3_Y"
      }
    },
    {
      "cell_type": "code",
      "source": [
        "print('Welcome To Python Pizza Deliveries')\n",
        "print('Choose your Pizza size: S, M, or L')\n",
        "\n",
        "size = input('Size: ')\n",
        "print('Do you want some pepperoni? (Y/N)')\n",
        "add_pepperoni = input('Add Pepperoni: ')\n",
        "print('Do you want some extra cheese? (Y/N)')\n",
        "extra_cheese = input('Extra Cheese: ')\n",
        "\n",
        "final_bill = 0\n",
        "if size == 'S':\n",
        "    final_bill += 15\n",
        "elif size == 'M':\n",
        "    final_bill += 20\n",
        "elif size == 'L':\n",
        "    final_bill += 25\n",
        "else:\n",
        "    print('Invalid Input, please choose S, M, or L')\n",
        "    exit()\n",
        "if add_pepperoni == 'Y':\n",
        "    if size == 'S':\n",
        "        final_bill += 2\n",
        "    else:\n",
        "        final_bill += 3\n",
        "\n",
        "if extra_cheese == 'Y':\n",
        "    final_bill += 1\n",
        "\n",
        "print(f'Your final bill is: ${final_bill}')"
      ],
      "metadata": {
        "id": "Tuhm4cbnFIe0",
        "outputId": "7f1e9b93-3e70-46aa-cdd2-4f68680249bd",
        "colab": {
          "base_uri": "https://localhost:8080/"
        }
      },
      "execution_count": 4,
      "outputs": [
        {
          "output_type": "stream",
          "name": "stdout",
          "text": [
            "Welcome To Python Pizza Deliveries\n",
            "Choose your Pizza size: S, M, or L\n",
            "Size: L\n",
            "Do you want some pepperoni? (Y/N)\n",
            "Add Pepperoni: Y\n",
            "Do you want some extra cheese? (Y/N)\n",
            "Extra Cheese: N\n",
            "Your final bill is: $28\n"
          ]
        }
      ]
    }
  ]
}